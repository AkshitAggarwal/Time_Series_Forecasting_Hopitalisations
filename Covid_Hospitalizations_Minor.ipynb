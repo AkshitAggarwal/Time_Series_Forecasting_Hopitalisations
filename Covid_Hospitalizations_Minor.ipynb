{
  "nbformat": 4,
  "nbformat_minor": 0,
  "metadata": {
    "colab": {
      "name": "Covid_Hospitalizations_Minor.ipynb",
      "provenance": [],
      "collapsed_sections": [],
      "include_colab_link": true
    },
    "kernelspec": {
      "name": "python3",
      "display_name": "Python 3"
    },
    "language_info": {
      "name": "python"
    }
  },
  "cells": [
    {
      "cell_type": "markdown",
      "metadata": {
        "id": "view-in-github",
        "colab_type": "text"
      },
      "source": [
        "<a href=\"https://colab.research.google.com/github/AkshitAggarwal/Time_Series_Forecasting_Hopitalisations/blob/main/Covid_Hospitalizations_Minor.ipynb\" target=\"_parent\"><img src=\"https://colab.research.google.com/assets/colab-badge.svg\" alt=\"Open In Colab\"/></a>"
      ]
    },
    {
      "cell_type": "code",
      "metadata": {
        "id": "nRfG0NBbbmhi"
      },
      "source": [
        "import numpy as np\n",
        "import matplotlib.pyplot as plt\n",
        "import pandas as pd\n",
        "from copy import deepcopy\n",
        "from tqdm import tqdm"
      ],
      "execution_count": 1,
      "outputs": []
    },
    {
      "cell_type": "code",
      "metadata": {
        "id": "bqfWAifbcnuJ"
      },
      "source": [
        "dataset = pd.read_csv(\"Data_Minor_test.csv\",parse_dates=True,dayfirst=True,index_col=0)\n",
        "dataset.index.freq='D'\n",
        "testset = pd.read_csv(\"UK-Final.csv\",parse_dates=True,dayfirst=True,index_col=0)\n",
        "testset.index.freq='D'"
      ],
      "execution_count": 2,
      "outputs": []
    },
    {
      "cell_type": "code",
      "metadata": {
        "colab": {
          "base_uri": "https://localhost:8080/",
          "height": 238
        },
        "id": "4QTvuOOlIjDE",
        "outputId": "9ec9c535-988b-4098-9889-a5b3bebbd79a"
      },
      "source": [
        "testset.head()"
      ],
      "execution_count": 3,
      "outputs": [
        {
          "output_type": "execute_result",
          "data": {
            "text/html": [
              "<div>\n",
              "<style scoped>\n",
              "    .dataframe tbody tr th:only-of-type {\n",
              "        vertical-align: middle;\n",
              "    }\n",
              "\n",
              "    .dataframe tbody tr th {\n",
              "        vertical-align: top;\n",
              "    }\n",
              "\n",
              "    .dataframe thead th {\n",
              "        text-align: right;\n",
              "    }\n",
              "</style>\n",
              "<table border=\"1\" class=\"dataframe\">\n",
              "  <thead>\n",
              "    <tr style=\"text-align: right;\">\n",
              "      <th></th>\n",
              "      <th>Beds  Occupied</th>\n",
              "    </tr>\n",
              "    <tr>\n",
              "      <th>Date</th>\n",
              "      <th></th>\n",
              "    </tr>\n",
              "  </thead>\n",
              "  <tbody>\n",
              "    <tr>\n",
              "      <th>2020-03-28</th>\n",
              "      <td>8278</td>\n",
              "    </tr>\n",
              "    <tr>\n",
              "      <th>2020-03-29</th>\n",
              "      <td>9525</td>\n",
              "    </tr>\n",
              "    <tr>\n",
              "      <th>2020-03-30</th>\n",
              "      <td>11093</td>\n",
              "    </tr>\n",
              "    <tr>\n",
              "      <th>2020-03-31</th>\n",
              "      <td>12597</td>\n",
              "    </tr>\n",
              "    <tr>\n",
              "      <th>2020-04-01</th>\n",
              "      <td>13637</td>\n",
              "    </tr>\n",
              "  </tbody>\n",
              "</table>\n",
              "</div>"
            ],
            "text/plain": [
              "            Beds  Occupied\n",
              "Date                      \n",
              "2020-03-28            8278\n",
              "2020-03-29            9525\n",
              "2020-03-30           11093\n",
              "2020-03-31           12597\n",
              "2020-04-01           13637"
            ]
          },
          "metadata": {},
          "execution_count": 3
        }
      ]
    },
    {
      "cell_type": "markdown",
      "metadata": {
        "id": "SPtMmxW8dJsD"
      },
      "source": [
        ""
      ]
    },
    {
      "cell_type": "code",
      "metadata": {
        "colab": {
          "base_uri": "https://localhost:8080/",
          "height": 471
        },
        "id": "AXN3UIY_bFTY",
        "outputId": "850eda09-e3b7-44f8-e367-d1d9cc129e3d"
      },
      "source": [
        "testset.plot(figsize=(15,7))"
      ],
      "execution_count": 4,
      "outputs": [
        {
          "output_type": "execute_result",
          "data": {
            "text/plain": [
              "<matplotlib.axes._subplots.AxesSubplot at 0x7efbedfde990>"
            ]
          },
          "metadata": {},
          "execution_count": 4
        },
        {
          "output_type": "display_data",
          "data": {
            "image/png": "[encoded data removed]",
            "text/plain": [
              "<Figure size 1080x504 with 1 Axes>"
            ]
          },
          "metadata": {
            "needs_background": "light"
          }
        }
      ]
    },
    {
      "cell_type": "code",
      "metadata": {
        "id": "lU2lxw6Bz_he"
      },
      "source": [
        "train = testset\n",
        "test = testset"
      ],
      "execution_count": 5,
      "outputs": []
    },
    {
      "cell_type": "code",
      "metadata": {
        "id": "Rn0w1zrpcSJl"
      },
      "source": [
        "train = testset[:int(len(testset)*0.8)]['Beds  Occupied'].values.reshape(-1, 1)\n",
        "test = testset[int(len(testset)*0.8):]['Beds  Occupied'].values.reshape(-1, 1)"
      ],
      "execution_count": 6,
      "outputs": []
    },
    {
      "cell_type": "code",
      "metadata": {
        "id": "PI4Ue2Ul0P94"
      },
      "source": [
        "from sklearn.preprocessing import MinMaxScaler\n",
        "scaler = MinMaxScaler()\n",
        "scaler2 = MinMaxScaler()"
      ],
      "execution_count": 7,
      "outputs": []
    },
    {
      "cell_type": "code",
      "metadata": {
        "id": "iAxDFXZP0Zte"
      },
      "source": [
        "scaler.fit(train) \n",
        "# scaler2.fit(test['Beds  Occupied'].values.reshape(-1, 1))\n",
        "scaled_train = scaler.transform(train)\n",
        "scaled_test = scaler.transform(test)"
      ],
      "execution_count": 8,
      "outputs": []
    },
    {
      "cell_type": "code",
      "metadata": {
        "colab": {
          "base_uri": "https://localhost:8080/"
        },
        "id": "zr4WRUArx6Y0",
        "outputId": "55f9d60c-2d86-4120-ea6d-d92ea51856d5"
      },
      "source": [
        "max(scaled_train)"
      ],
      "execution_count": 9,
      "outputs": [
        {
          "output_type": "execute_result",
          "data": {
            "text/plain": [
              "array([1.])"
            ]
          },
          "metadata": {},
          "execution_count": 9
        }
      ]
    },
    {
      "cell_type": "code",
      "metadata": {
        "id": "vfW39M_jx-lw"
      },
      "source": [
        "from keras.preprocessing.sequence import TimeseriesGenerator"
      ],
      "execution_count": 10,
      "outputs": []
    },
    {
      "cell_type": "code",
      "metadata": {
        "id": "lZ2_pwFOxdpm"
      },
      "source": [
        "target_size = 5\n",
        "targets_temp = list(scaled_train[:target_size])\n",
        "targets_train = [deepcopy(targets_temp)]\n",
        "for i in range(target_size, len(scaled_train)):\n",
        "    targets_temp.append(scaled_train[i])\n",
        "    targets_train.append(targets_temp[-target_size:])"
      ],
      "execution_count": 11,
      "outputs": []
    },
    {
      "cell_type": "code",
      "metadata": {
        "id": "QvVziddz0V_y"
      },
      "source": [
        "n_input = 20\n",
        "n_features = 1\n",
        "generator = TimeseriesGenerator(scaled_train[:len(targets_train)], targets_train, length=n_input, batch_size=8)"
      ],
      "execution_count": 12,
      "outputs": []
    },
    {
      "cell_type": "code",
      "metadata": {
        "id": "6U4LTf510565"
      },
      "source": [
        "# X , y = generator[1]\n",
        "# print(f'Given the Array: \\n{X}')\n",
        "# print(f'Predict this y: \\n {y}')"
      ],
      "execution_count": 13,
      "outputs": []
    },
    {
      "cell_type": "code",
      "metadata": {
        "id": "EgHilWaE1IMh"
      },
      "source": [
        "from keras.models import Sequential\n",
        "from keras.layers import Dense\n",
        "from keras.layers import LSTM"
      ],
      "execution_count": 14,
      "outputs": []
    },
    {
      "cell_type": "code",
      "metadata": {
        "id": "X-XOgMni1mPM"
      },
      "source": [
        "model = Sequential()\n",
        "model.add(LSTM(50, activation='relu', return_sequences=True, input_shape=(n_input, n_features)))\n",
        "model.add(LSTM(50, activation='relu'))\n",
        "model.add(Dense(target_size))\n",
        "model.compile(optimizer='adam', loss='mse')"
      ],
      "execution_count": 15,
      "outputs": []
    },
    {
      "cell_type": "code",
      "metadata": {
        "colab": {
          "base_uri": "https://localhost:8080/"
        },
        "id": "N2WVFtZk1qDb",
        "outputId": "a873c7f6-573b-4b61-9dbe-0c30ac1e27a4"
      },
      "source": [
        "model.summary()"
      ],
      "execution_count": 16,
      "outputs": [
        {
          "output_type": "stream",
          "name": "stdout",
          "text": [
            "Model: \"sequential\"\n",
            "_________________________________________________________________\n",
            " Layer (type)                Output Shape              Param #   \n",
            "=================================================================\n",
            " lstm (LSTM)                 (None, 20, 50)            10400     \n",
            "                                                                 \n",
            " lstm_1 (LSTM)               (None, 50)                20200     \n",
            "                                                                 \n",
            " dense (Dense)               (None, 5)                 255       \n",
            "                                                                 \n",
            "=================================================================\n",
            "Total params: 30,855\n",
            "Trainable params: 30,855\n",
            "Non-trainable params: 0\n",
            "_________________________________________________________________\n"
          ]
        }
      ]
    },
    {
      "cell_type": "code",
      "metadata": {
        "colab": {
          "base_uri": "https://localhost:8080/"
        },
        "id": "bW5ZaM8K1uWc",
        "outputId": "84bc15f1-beb1-4d11-b6c2-ced2ab52f3e2"
      },
      "source": [
        "# fit model\n",
        "model.fit(generator,epochs=100)"
      ],
      "execution_count": 28,
      "outputs": [
        {
          "output_type": "stream",
          "name": "stdout",
          "text": [
            "Epoch 1/100\n",
            "54/54 [==============================] - 1s 17ms/step - loss: 7.1554e-04\n",
            "Epoch 2/100\n",
            "54/54 [==============================] - 1s 17ms/step - loss: 4.6515e-04\n",
            "Epoch 3/100\n",
            "54/54 [==============================] - 1s 17ms/step - loss: 2.6127e-04\n",
            "Epoch 4/100\n",
            "54/54 [==============================] - 1s 17ms/step - loss: 2.9987e-04\n",
            "Epoch 5/100\n",
            "54/54 [==============================] - 1s 17ms/step - loss: 4.7535e-04\n",
            "Epoch 6/100\n",
            "54/54 [==============================] - 1s 17ms/step - loss: 3.9083e-04\n",
            "Epoch 7/100\n",
            "54/54 [==============================] - 1s 17ms/step - loss: 5.3448e-04\n",
            "Epoch 8/100\n",
            "54/54 [==============================] - 1s 16ms/step - loss: 4.5438e-04\n",
            "Epoch 9/100\n",
            "54/54 [==============================] - 1s 17ms/step - loss: 0.0012\n",
            "Epoch 10/100\n",
            "54/54 [==============================] - 1s 17ms/step - loss: 9.1078e-04\n",
            "Epoch 11/100\n",
            "54/54 [==============================] - 1s 16ms/step - loss: 6.0376e-04\n",
            "Epoch 12/100\n",
            "54/54 [==============================] - 1s 17ms/step - loss: 3.8829e-04\n",
            "Epoch 13/100\n",
            "54/54 [==============================] - 1s 17ms/step - loss: 4.4764e-04\n",
            "Epoch 14/100\n",
            "54/54 [==============================] - 1s 16ms/step - loss: 4.6763e-04\n",
            "Epoch 15/100\n",
            "54/54 [==============================] - 1s 17ms/step - loss: 4.6556e-04\n",
            "Epoch 16/100\n",
            "54/54 [==============================] - 1s 17ms/step - loss: 4.1301e-04\n",
            "Epoch 17/100\n",
            "54/54 [==============================] - 1s 17ms/step - loss: 2.9810e-04\n",
            "Epoch 18/100\n",
            "54/54 [==============================] - 1s 16ms/step - loss: 2.8576e-04\n",
            "Epoch 19/100\n",
            "54/54 [==============================] - 1s 17ms/step - loss: 6.5771e-04\n",
            "Epoch 20/100\n",
            "54/54 [==============================] - 1s 17ms/step - loss: 4.0518e-04\n",
            "Epoch 21/100\n",
            "54/54 [==============================] - 1s 17ms/step - loss: 9.2796e-04\n",
            "Epoch 22/100\n",
            "54/54 [==============================] - 1s 17ms/step - loss: 5.8442e-04\n",
            "Epoch 23/100\n",
            "54/54 [==============================] - 1s 16ms/step - loss: 3.1290e-04\n",
            "Epoch 24/100\n",
            "54/54 [==============================] - 1s 18ms/step - loss: 3.6672e-04\n",
            "Epoch 25/100\n",
            "54/54 [==============================] - 1s 17ms/step - loss: 3.3552e-04\n",
            "Epoch 26/100\n",
            "54/54 [==============================] - 1s 16ms/step - loss: 2.5466e-04\n",
            "Epoch 27/100\n",
            "54/54 [==============================] - 1s 17ms/step - loss: 6.2773e-04\n",
            "Epoch 28/100\n",
            "54/54 [==============================] - 1s 16ms/step - loss: 4.3982e-04\n",
            "Epoch 29/100\n",
            "54/54 [==============================] - 1s 17ms/step - loss: 4.1908e-04\n",
            "Epoch 30/100\n",
            "54/54 [==============================] - 1s 17ms/step - loss: 2.2922e-04\n",
            "Epoch 31/100\n",
            "54/54 [==============================] - 1s 18ms/step - loss: 2.3865e-04\n",
            "Epoch 32/100\n",
            "54/54 [==============================] - 1s 16ms/step - loss: 3.5311e-04\n",
            "Epoch 33/100\n",
            "54/54 [==============================] - 1s 17ms/step - loss: 9.6886e-04\n",
            "Epoch 34/100\n",
            "54/54 [==============================] - 1s 16ms/step - loss: 0.0016\n",
            "Epoch 35/100\n",
            "54/54 [==============================] - 1s 17ms/step - loss: 0.0022\n",
            "Epoch 36/100\n",
            "54/54 [==============================] - 1s 17ms/step - loss: 3.5717e-04\n",
            "Epoch 37/100\n",
            "54/54 [==============================] - 1s 18ms/step - loss: 4.4961e-04\n",
            "Epoch 38/100\n",
            "54/54 [==============================] - 1s 17ms/step - loss: 3.8181e-04\n",
            "Epoch 39/100\n",
            "54/54 [==============================] - 1s 17ms/step - loss: 9.1800e-04\n",
            "Epoch 40/100\n",
            "54/54 [==============================] - 1s 18ms/step - loss: 7.0247e-04\n",
            "Epoch 41/100\n",
            "54/54 [==============================] - 1s 16ms/step - loss: 6.8765e-04\n",
            "Epoch 42/100\n",
            "54/54 [==============================] - 1s 17ms/step - loss: 3.5252e-04\n",
            "Epoch 43/100\n",
            "54/54 [==============================] - 1s 16ms/step - loss: 2.7381e-04\n",
            "Epoch 44/100\n",
            "54/54 [==============================] - 1s 16ms/step - loss: 3.8871e-04\n",
            "Epoch 45/100\n",
            "54/54 [==============================] - 1s 17ms/step - loss: 2.5481e-04\n",
            "Epoch 46/100\n",
            "54/54 [==============================] - 1s 17ms/step - loss: 6.3245e-04\n",
            "Epoch 47/100\n",
            "54/54 [==============================] - 1s 17ms/step - loss: 2.5186e-04\n",
            "Epoch 48/100\n",
            "54/54 [==============================] - 1s 17ms/step - loss: 2.2263e-04\n",
            "Epoch 49/100\n",
            "54/54 [==============================] - 1s 16ms/step - loss: 1.9927e-04\n",
            "Epoch 50/100\n",
            "54/54 [==============================] - 1s 16ms/step - loss: 2.1977e-04\n",
            "Epoch 51/100\n",
            "54/54 [==============================] - 1s 17ms/step - loss: 2.4579e-04\n",
            "Epoch 52/100\n",
            "54/54 [==============================] - 1s 17ms/step - loss: 3.3752e-04\n",
            "Epoch 53/100\n",
            "54/54 [==============================] - 1s 17ms/step - loss: 2.1202e-04\n",
            "Epoch 54/100\n",
            "54/54 [==============================] - 1s 16ms/step - loss: 2.0071e-04\n",
            "Epoch 55/100\n",
            "54/54 [==============================] - 1s 17ms/step - loss: 2.0724e-04\n",
            "Epoch 56/100\n",
            "54/54 [==============================] - 1s 18ms/step - loss: 2.9455e-04\n",
            "Epoch 57/100\n",
            "54/54 [==============================] - 1s 17ms/step - loss: 8.2082e-04\n",
            "Epoch 58/100\n",
            "54/54 [==============================] - 1s 17ms/step - loss: 6.9076e-04\n",
            "Epoch 59/100\n",
            "54/54 [==============================] - 1s 17ms/step - loss: 3.3871e-04\n",
            "Epoch 60/100\n",
            "54/54 [==============================] - 1s 17ms/step - loss: 3.4524e-04\n",
            "Epoch 61/100\n",
            "54/54 [==============================] - 1s 17ms/step - loss: 2.8037e-04\n",
            "Epoch 62/100\n",
            "54/54 [==============================] - 1s 16ms/step - loss: 3.5960e-04\n",
            "Epoch 63/100\n",
            "54/54 [==============================] - 1s 17ms/step - loss: 3.7814e-04\n",
            "Epoch 64/100\n",
            "54/54 [==============================] - 1s 17ms/step - loss: 3.9003e-04\n",
            "Epoch 65/100\n",
            "54/54 [==============================] - 1s 17ms/step - loss: 2.4155e-04\n",
            "Epoch 66/100\n",
            "54/54 [==============================] - 1s 17ms/step - loss: 2.4559e-04\n",
            "Epoch 67/100\n",
            "54/54 [==============================] - 1s 17ms/step - loss: 2.5832e-04\n",
            "Epoch 68/100\n",
            "54/54 [==============================] - 1s 17ms/step - loss: 3.4320e-04\n",
            "Epoch 69/100\n",
            "54/54 [==============================] - 1s 17ms/step - loss: 3.3575e-04\n",
            "Epoch 70/100\n",
            "54/54 [==============================] - 1s 18ms/step - loss: 2.6061e-04\n",
            "Epoch 71/100\n",
            "54/54 [==============================] - 1s 17ms/step - loss: 3.0606e-04\n",
            "Epoch 72/100\n",
            "54/54 [==============================] - 1s 17ms/step - loss: 2.7771e-04\n",
            "Epoch 73/100\n",
            "54/54 [==============================] - 1s 17ms/step - loss: 5.5380e-04\n",
            "Epoch 74/100\n",
            "54/54 [==============================] - 1s 18ms/step - loss: 2.2838e-04\n",
            "Epoch 75/100\n",
            "54/54 [==============================] - 1s 17ms/step - loss: 4.6784e-04\n",
            "Epoch 76/100\n",
            "54/54 [==============================] - 1s 17ms/step - loss: 2.4373e-04\n",
            "Epoch 77/100\n",
            "54/54 [==============================] - 1s 17ms/step - loss: 2.7898e-04\n",
            "Epoch 78/100\n",
            "54/54 [==============================] - 1s 17ms/step - loss: 6.4611e-04\n",
            "Epoch 79/100\n",
            "54/54 [==============================] - 1s 17ms/step - loss: 8.6382e-04\n",
            "Epoch 80/100\n",
            "54/54 [==============================] - 1s 19ms/step - loss: 5.5800e-04\n",
            "Epoch 81/100\n",
            "54/54 [==============================] - 1s 18ms/step - loss: 4.0140e-04\n",
            "Epoch 82/100\n",
            "54/54 [==============================] - 1s 17ms/step - loss: 2.6954e-04\n",
            "Epoch 83/100\n",
            "54/54 [==============================] - 1s 17ms/step - loss: 3.0416e-04\n",
            "Epoch 84/100\n",
            "54/54 [==============================] - 1s 16ms/step - loss: 3.2620e-04\n",
            "Epoch 85/100\n",
            "54/54 [==============================] - 1s 17ms/step - loss: 4.2770e-04\n",
            "Epoch 86/100\n",
            "54/54 [==============================] - 1s 17ms/step - loss: 3.2818e-04\n",
            "Epoch 87/100\n",
            "54/54 [==============================] - 1s 17ms/step - loss: 2.2797e-04\n",
            "Epoch 88/100\n",
            "54/54 [==============================] - 1s 17ms/step - loss: 4.2866e-04\n",
            "Epoch 89/100\n",
            "54/54 [==============================] - 1s 17ms/step - loss: 5.4590e-04\n",
            "Epoch 90/100\n",
            "54/54 [==============================] - 1s 17ms/step - loss: 2.9427e-04\n",
            "Epoch 91/100\n",
            "54/54 [==============================] - 1s 17ms/step - loss: 3.8098e-04\n",
            "Epoch 92/100\n",
            "54/54 [==============================] - 1s 18ms/step - loss: 3.6198e-04\n",
            "Epoch 93/100\n",
            "54/54 [==============================] - 1s 18ms/step - loss: 2.8293e-04\n",
            "Epoch 94/100\n",
            "54/54 [==============================] - 1s 17ms/step - loss: 2.3535e-04\n",
            "Epoch 95/100\n",
            "54/54 [==============================] - 1s 17ms/step - loss: 2.0641e-04\n",
            "Epoch 96/100\n",
            "54/54 [==============================] - 1s 17ms/step - loss: 1.9263e-04\n",
            "Epoch 97/100\n",
            "54/54 [==============================] - 1s 17ms/step - loss: 2.5713e-04\n",
            "Epoch 98/100\n",
            "54/54 [==============================] - 1s 17ms/step - loss: 2.4170e-04\n",
            "Epoch 99/100\n",
            "54/54 [==============================] - 1s 17ms/step - loss: 2.8721e-04\n",
            "Epoch 100/100\n",
            "54/54 [==============================] - 1s 17ms/step - loss: 6.1999e-04\n"
          ]
        },
        {
          "output_type": "execute_result",
          "data": {
            "text/plain": [
              "<keras.callbacks.History at 0x7efbedfec650>"
            ]
          },
          "metadata": {},
          "execution_count": 28
        }
      ]
    },
    {
      "cell_type": "code",
      "metadata": {
        "colab": {
          "base_uri": "https://localhost:8080/",
          "height": 282
        },
        "id": "ak41740N21h3",
        "outputId": "fa6d48e9-cfdf-4a22-89b6-8a820e1976db"
      },
      "source": [
        "loss_per_epoch = model.history.history['loss']\n",
        "plt.plot(range(len(loss_per_epoch)),loss_per_epoch)"
      ],
      "execution_count": 29,
      "outputs": [
        {
          "output_type": "execute_result",
          "data": {
            "text/plain": [
              "[<matplotlib.lines.Line2D at 0x7efb71414a50>]"
            ]
          },
          "metadata": {},
          "execution_count": 29
        },
        {
          "output_type": "display_data",
          "data": {
            "image/png": "[encoded data removed]",
            "text/plain": [
              "<Figure size 432x288 with 1 Axes>"
            ]
          },
          "metadata": {
            "needs_background": "light"
          }
        }
      ]
    },
    {
      "cell_type": "code",
      "metadata": {
        "id": "3dxL3bdK3B7W"
      },
      "source": [
        "last_train_batch = scaled_train[-20:]"
      ],
      "execution_count": 30,
      "outputs": []
    },
    {
      "cell_type": "code",
      "metadata": {
        "id": "lyoFFdUJ3H5E"
      },
      "source": [
        "#last_train_batch = last_train_batch.reshape((1, n_input, n_features))"
      ],
      "execution_count": 31,
      "outputs": []
    },
    {
      "cell_type": "code",
      "metadata": {
        "id": "Bym9HiTj3LLN"
      },
      "source": [
        "#model.predict(last_train_batch)"
      ],
      "execution_count": 32,
      "outputs": []
    },
    {
      "cell_type": "code",
      "metadata": {
        "colab": {
          "base_uri": "https://localhost:8080/"
        },
        "id": "AdAMeBpv3Pu1",
        "outputId": "9a2750e8-5eb0-42e4-94bf-d46f10c467da"
      },
      "source": [
        "scaled_test[0]"
      ],
      "execution_count": 33,
      "outputs": [
        {
          "output_type": "execute_result",
          "data": {
            "text/plain": [
              "array([0.01886498])"
            ]
          },
          "metadata": {},
          "execution_count": 33
        }
      ]
    },
    {
      "cell_type": "code",
      "metadata": {
        "id": "UsJhrGgQ3Z4E",
        "colab": {
          "base_uri": "https://localhost:8080/"
        },
        "outputId": "56aaf843-e938-4866-d921-56eb1f540d12"
      },
      "source": [
        "test_predictions = []\n",
        "optimistic = []\n",
        "optimistic_preds = []\n",
        "first_eval_batch = scaled_test[:n_input]\n",
        "current_batch = first_eval_batch.reshape((1, n_input, n_features))\n",
        "\n",
        "for i in tqdm(range(len(test) - n_input)):\n",
        "    # print(scaled_test[i:i+n_input])\n",
        "    \n",
        "    # print(inp)\n",
        "    current_pred = model.predict(scaled_test[i:i+n_input].reshape((1, n_input, n_features)))[0]\n",
        "    test_predictions.append(current_pred[0]) \n",
        "\n",
        "optimistic = list(scaled_test[-n_input:]) \n",
        "future_preds = 20\n",
        "for i in range(future_preds):\n",
        "    # Future forecasting\n",
        "    inp = np.array(optimistic[-n_input:])\n",
        "    opt_pred = model.predict(inp.reshape((1, n_input, n_features)))[0]\n",
        "    optimistic_preds.append(opt_pred[0])\n",
        "    # print(opt_pred)\n",
        "    optimistic.append(np.array([optimistic_preds[-1]]))\n",
        "    # current_batch = np.append(current_batch[:,1:,:],[[current_pred]],axis=1)"
      ],
      "execution_count": 34,
      "outputs": [
        {
          "output_type": "stream",
          "name": "stderr",
          "text": [
            "100%|██████████| 94/94 [00:04<00:00, 20.79it/s]\n"
          ]
        }
      ]
    },
    {
      "cell_type": "code",
      "metadata": {
        "id": "vJnx8aQb35y7"
      },
      "source": [
        "true_predictions = scaler.inverse_transform([test_predictions])"
      ],
      "execution_count": 35,
      "outputs": []
    },
    {
      "cell_type": "code",
      "metadata": {
        "colab": {
          "base_uri": "https://localhost:8080/"
        },
        "id": "dSdh-p0k4LHG",
        "outputId": "2da41211-4065-46d5-de05-d5cb565ae61a"
      },
      "source": [
        "np.array(scaler.inverse_transform([optimistic_preds])).reshape(1, -1)"
      ],
      "execution_count": 36,
      "outputs": [
        {
          "output_type": "execute_result",
          "data": {
            "text/plain": [
              "array([[7179.64134991, 7264.58570939, 7351.20341432, 7426.57621491,\n",
              "        7502.45939159, 7585.08985496, 7677.4415493 , 7782.98961973,\n",
              "        7899.83133829, 8016.06978083, 8128.75279438, 8243.02657568,\n",
              "        8363.17713702, 8491.26203954, 8628.43622422, 8773.52869332,\n",
              "        8916.4764359 , 9059.00784922, 9206.83914554, 9359.78796577]])"
            ]
          },
          "metadata": {},
          "execution_count": 36
        }
      ]
    },
    {
      "cell_type": "code",
      "metadata": {
        "colab": {
          "base_uri": "https://localhost:8080/",
          "height": 282
        },
        "id": "bu8L2khw4I4A",
        "outputId": "cd568e18-2a5c-468c-a0b8-ed4ff095c997"
      },
      "source": [
        "plt.plot(test[n_input:].reshape(1, -1)[0])\n",
        "plt.plot(true_predictions[:][0])\n",
        "plt.plot((range(len(true_predictions[0]), future_preds + len(true_predictions[0]))),np.array(scaler.inverse_transform([optimistic_preds])).reshape(1, -1)[0])"
      ],
      "execution_count": 37,
      "outputs": [
        {
          "output_type": "execute_result",
          "data": {
            "text/plain": [
              "[<matplotlib.lines.Line2D at 0x7efb71129090>]"
            ]
          },
          "metadata": {},
          "execution_count": 37
        },
        {
          "output_type": "display_data",
          "data": {
            "image/png": "[encoded data removed]",
            "text/plain": [
              "<Figure size 432x288 with 1 Axes>"
            ]
          },
          "metadata": {
            "needs_background": "light"
          }
        }
      ]
    },
    {
      "cell_type": "code",
      "source": [
        "from sklearn.metrics import mean_squared_error\n",
        "\n",
        "print( mean_squared_error( scaled_test[n_input:].reshape(1, -1)[0] , test_predictions ) )"
      ],
      "metadata": {
        "colab": {
          "base_uri": "https://localhost:8080/"
        },
        "id": "-Ot4wXanhe4-",
        "outputId": "255f02dc-193c-4961-800c-aff2a72487a5"
      },
      "execution_count": 40,
      "outputs": [
        {
          "output_type": "stream",
          "name": "stdout",
          "text": [
            "7.789415328200837e-05\n"
          ]
        }
      ]
    }
  ]
}