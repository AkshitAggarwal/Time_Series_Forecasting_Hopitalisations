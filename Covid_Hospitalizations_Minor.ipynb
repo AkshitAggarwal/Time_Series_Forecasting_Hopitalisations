{
  "nbformat": 4,
  "nbformat_minor": 0,
  "metadata": {
    "colab": {
      "name": "Covid_Hospitalizations_Minor.ipynb",
      "provenance": [],
      "collapsed_sections": [],
      "include_colab_link": true
    },
    "kernelspec": {
      "name": "python3",
      "display_name": "Python 3"
    },
    "language_info": {
      "name": "python"
    }
  },
  "cells": [
    {
      "cell_type": "markdown",
      "metadata": {
        "id": "view-in-github",
        "colab_type": "text"
      },
      "source": [
        "<a href=\"https://colab.research.google.com/github/AkshitAggarwal/Time_Series_Forecasting_Hopitalisations/blob/main/Covid_Hospitalizations_Minor.ipynb\" target=\"_parent\"><img src=\"https://colab.research.google.com/assets/colab-badge.svg\" alt=\"Open In Colab\"/></a>"
      ]
    },
    {
      "cell_type": "code",
      "metadata": {
        "id": "nRfG0NBbbmhi"
      },
      "source": [
        "import numpy as np\n",
        "import matplotlib.pyplot as plt\n",
        "import pandas as pd\n",
        "from copy import deepcopy\n",
        "from tqdm import tqdm"
      ],
      "execution_count": null,
      "outputs": []
    },
    {
      "cell_type": "markdown",
      "metadata": {
        "id": "SPtMmxW8dJsD"
      },
      "source": [
        ""
      ]
    },
    {
      "cell_type": "code",
      "metadata": {
        "id": "bqfWAifbcnuJ"
      },
      "source": [
        "dataset = pd.read_csv(\"Data_Minor_test.csv\",parse_dates=True,dayfirst=True,index_col=0)\n",
        "dataset.index.freq='D'\n",
        "testset = pd.read_csv(\"UK-Final.csv\",parse_dates=True,dayfirst=True,index_col=0)\n",
        "testset.index.freq='D'"
      ],
      "execution_count": null,
      "outputs": []
    },
    {
      "cell_type": "code",
      "metadata": {
        "colab": {
          "base_uri": "https://localhost:8080/",
          "height": 234
        },
        "id": "LJ5xQlqHfQJE",
        "outputId": "8f76a88d-9022-438c-f2b5-2274564adda2"
      },
      "source": [
        "dataset.head()"
      ],
      "execution_count": null,
      "outputs": [
        {
          "output_type": "execute_result",
          "data": {
            "text/html": [
              "<div>\n",
              "<style scoped>\n",
              "    .dataframe tbody tr th:only-of-type {\n",
              "        vertical-align: middle;\n",
              "    }\n",
              "\n",
              "    .dataframe tbody tr th {\n",
              "        vertical-align: top;\n",
              "    }\n",
              "\n",
              "    .dataframe thead th {\n",
              "        text-align: right;\n",
              "    }\n",
              "</style>\n",
              "<table border=\"1\" class=\"dataframe\">\n",
              "  <thead>\n",
              "    <tr style=\"text-align: right;\">\n",
              "      <th></th>\n",
              "      <th>Beds Occupied</th>\n",
              "    </tr>\n",
              "    <tr>\n",
              "      <th>Date</th>\n",
              "      <th></th>\n",
              "    </tr>\n",
              "  </thead>\n",
              "  <tbody>\n",
              "    <tr>\n",
              "      <th>2020-07-16</th>\n",
              "      <td>38532</td>\n",
              "    </tr>\n",
              "    <tr>\n",
              "      <th>2020-07-17</th>\n",
              "      <td>40057</td>\n",
              "    </tr>\n",
              "    <tr>\n",
              "      <th>2020-07-18</th>\n",
              "      <td>40372</td>\n",
              "    </tr>\n",
              "    <tr>\n",
              "      <th>2020-07-19</th>\n",
              "      <td>37895</td>\n",
              "    </tr>\n",
              "    <tr>\n",
              "      <th>2020-07-20</th>\n",
              "      <td>41136</td>\n",
              "    </tr>\n",
              "  </tbody>\n",
              "</table>\n",
              "</div>"
            ],
            "text/plain": [
              "            Beds Occupied\n",
              "Date                     \n",
              "2020-07-16          38532\n",
              "2020-07-17          40057\n",
              "2020-07-18          40372\n",
              "2020-07-19          37895\n",
              "2020-07-20          41136"
            ]
          },
          "metadata": {},
          "execution_count": 3
        }
      ]
    },
    {
      "cell_type": "code",
      "metadata": {
        "colab": {
          "base_uri": "https://localhost:8080/",
          "height": 234
        },
        "id": "4QTvuOOlIjDE",
        "outputId": "e6c3ac69-84af-4cce-c2ce-8c8bc7abafee"
      },
      "source": [
        "testset.head()"
      ],
      "execution_count": null,
      "outputs": [
        {
          "output_type": "execute_result",
          "data": {
            "text/html": [
              "<div>\n",
              "<style scoped>\n",
              "    .dataframe tbody tr th:only-of-type {\n",
              "        vertical-align: middle;\n",
              "    }\n",
              "\n",
              "    .dataframe tbody tr th {\n",
              "        vertical-align: top;\n",
              "    }\n",
              "\n",
              "    .dataframe thead th {\n",
              "        text-align: right;\n",
              "    }\n",
              "</style>\n",
              "<table border=\"1\" class=\"dataframe\">\n",
              "  <thead>\n",
              "    <tr style=\"text-align: right;\">\n",
              "      <th></th>\n",
              "      <th>Beds  Occupied</th>\n",
              "    </tr>\n",
              "    <tr>\n",
              "      <th>Date</th>\n",
              "      <th></th>\n",
              "    </tr>\n",
              "  </thead>\n",
              "  <tbody>\n",
              "    <tr>\n",
              "      <th>2020-03-28</th>\n",
              "      <td>8278</td>\n",
              "    </tr>\n",
              "    <tr>\n",
              "      <th>2020-03-29</th>\n",
              "      <td>9525</td>\n",
              "    </tr>\n",
              "    <tr>\n",
              "      <th>2020-03-30</th>\n",
              "      <td>11093</td>\n",
              "    </tr>\n",
              "    <tr>\n",
              "      <th>2020-03-31</th>\n",
              "      <td>12597</td>\n",
              "    </tr>\n",
              "    <tr>\n",
              "      <th>2020-04-01</th>\n",
              "      <td>13637</td>\n",
              "    </tr>\n",
              "  </tbody>\n",
              "</table>\n",
              "</div>"
            ],
            "text/plain": [
              "            Beds  Occupied\n",
              "Date                      \n",
              "2020-03-28            8278\n",
              "2020-03-29            9525\n",
              "2020-03-30           11093\n",
              "2020-03-31           12597\n",
              "2020-04-01           13637"
            ]
          },
          "metadata": {},
          "execution_count": 4
        }
      ]
    },
    {
      "cell_type": "code",
      "metadata": {
        "colab": {
          "base_uri": "https://localhost:8080/",
          "height": 471
        },
        "id": "YKvFJ8vVARw2",
        "outputId": "a5e4d6a7-bd1f-499b-cbdd-75e8c9da5295"
      },
      "source": [
        "dataset.plot(figsize=(15,7))"
      ],
      "execution_count": null,
      "outputs": [
        {
          "output_type": "execute_result",
          "data": {
            "text/plain": [
              "<matplotlib.axes._subplots.AxesSubplot at 0x7f4b799b0a90>"
            ]
          },
          "metadata": {},
          "execution_count": 5
        },
        {
          "output_type": "display_data",
          "data": {
            "image/png": "[encoded data removed]",
            "text/plain": [
              "<Figure size 1080x504 with 1 Axes>"
            ]
          },
          "metadata": {
            "needs_background": "light"
          }
        }
      ]
    },
    {
      "cell_type": "code",
      "metadata": {
        "colab": {
          "base_uri": "https://localhost:8080/",
          "height": 471
        },
        "id": "AXN3UIY_bFTY",
        "outputId": "7962d986-e436-45b0-85aa-0e9565699263"
      },
      "source": [
        "testset.plot(figsize=(15,7))"
      ],
      "execution_count": null,
      "outputs": [
        {
          "output_type": "execute_result",
          "data": {
            "text/plain": [
              "<matplotlib.axes._subplots.AxesSubplot at 0x7f4b796578d0>"
            ]
          },
          "metadata": {},
          "execution_count": 6
        },
        {
          "output_type": "display_data",
          "data": {
            "image/png": "[encoded data removed]",
            "text/plain": [
              "<Figure size 1080x504 with 1 Axes>"
            ]
          },
          "metadata": {
            "needs_background": "light"
          }
        }
      ]
    },
    {
      "cell_type": "code",
      "metadata": {
        "id": "lU2lxw6Bz_he"
      },
      "source": [
        "train = testset\n",
        "test = testset"
      ],
      "execution_count": null,
      "outputs": []
    },
    {
      "cell_type": "code",
      "metadata": {
        "id": "Rn0w1zrpcSJl"
      },
      "source": [
        "train = testset[:int(len(testset)*0.8)]['Beds  Occupied'].values.reshape(-1, 1)\n",
        "test = testset[int(len(testset)*0.8):]['Beds  Occupied'].values.reshape(-1, 1)"
      ],
      "execution_count": null,
      "outputs": []
    },
    {
      "cell_type": "code",
      "metadata": {
        "id": "PI4Ue2Ul0P94"
      },
      "source": [
        "from sklearn.preprocessing import MinMaxScaler\n",
        "scaler = MinMaxScaler()\n",
        "scaler2 = MinMaxScaler()"
      ],
      "execution_count": null,
      "outputs": []
    },
    {
      "cell_type": "code",
      "metadata": {
        "id": "iAxDFXZP0Zte"
      },
      "source": [
        "scaler.fit(train) \n",
        "# scaler2.fit(test['Beds  Occupied'].values.reshape(-1, 1))\n",
        "scaled_train = scaler.transform(train)\n",
        "scaled_test = scaler.transform(test)"
      ],
      "execution_count": null,
      "outputs": []
    },
    {
      "cell_type": "code",
      "metadata": {
        "colab": {
          "base_uri": "https://localhost:8080/"
        },
        "id": "zr4WRUArx6Y0",
        "outputId": "f3c8618a-1b59-4166-8232-7ad692257e6d"
      },
      "source": [
        "max(scaled_train)"
      ],
      "execution_count": null,
      "outputs": [
        {
          "output_type": "execute_result",
          "data": {
            "text/plain": [
              "array([1.])"
            ]
          },
          "metadata": {},
          "execution_count": 12
        }
      ]
    },
    {
      "cell_type": "code",
      "metadata": {
        "id": "vfW39M_jx-lw"
      },
      "source": [
        "from keras.preprocessing.sequence import TimeseriesGenerator"
      ],
      "execution_count": null,
      "outputs": []
    },
    {
      "cell_type": "code",
      "metadata": {
        "id": "QvVziddz0V_y"
      },
      "source": [
        "n_input = 20\n",
        "n_features = 1\n",
        "generator = TimeseriesGenerator(scaled_train, scaled_train, length=n_input, batch_size=8)"
      ],
      "execution_count": null,
      "outputs": []
    },
    {
      "cell_type": "code",
      "metadata": {
        "id": "6U4LTf510565"
      },
      "source": [
        "# X , y = generator[1]\n",
        "# print(f'Given the Array: \\n{X}')\n",
        "# print(f'Predict this y: \\n {y}')"
      ],
      "execution_count": null,
      "outputs": []
    },
    {
      "cell_type": "code",
      "metadata": {
        "id": "EgHilWaE1IMh"
      },
      "source": [
        "from keras.models import Sequential\n",
        "from keras.layers import Dense\n",
        "from keras.layers import LSTM"
      ],
      "execution_count": null,
      "outputs": []
    },
    {
      "cell_type": "code",
      "metadata": {
        "id": "X-XOgMni1mPM"
      },
      "source": [
        "model = Sequential()\n",
        "model.add(LSTM(50, activation='relu', return_sequences=True, input_shape=(n_input, n_features)))\n",
        "model.add(LSTM(50, activation='relu'))\n",
        "model.add(Dense(1))\n",
        "model.compile(optimizer='adam', loss='mse')"
      ],
      "execution_count": null,
      "outputs": []
    },
    {
      "cell_type": "code",
      "metadata": {
        "colab": {
          "base_uri": "https://localhost:8080/"
        },
        "id": "N2WVFtZk1qDb",
        "outputId": "9f8c9852-0ded-49ad-c2c0-635352aa3506"
      },
      "source": [
        "model.summary()"
      ],
      "execution_count": null,
      "outputs": [
        {
          "output_type": "stream",
          "name": "stdout",
          "text": [
            "Model: \"sequential\"\n",
            "_________________________________________________________________\n",
            "Layer (type)                 Output Shape              Param #   \n",
            "=================================================================\n",
            "lstm (LSTM)                  (None, 20, 50)            10400     \n",
            "_________________________________________________________________\n",
            "lstm_1 (LSTM)                (None, 50)                20200     \n",
            "_________________________________________________________________\n",
            "dense (Dense)                (None, 1)                 51        \n",
            "=================================================================\n",
            "Total params: 30,651\n",
            "Trainable params: 30,651\n",
            "Non-trainable params: 0\n",
            "_________________________________________________________________\n"
          ]
        }
      ]
    },
    {
      "cell_type": "code",
      "metadata": {
        "colab": {
          "base_uri": "https://localhost:8080/"
        },
        "id": "bW5ZaM8K1uWc",
        "outputId": "ef04c11c-c8db-4f76-8dc4-b8f3aa353315"
      },
      "source": [
        "# fit model\n",
        "model.fit(generator,epochs=100)"
      ],
      "execution_count": null,
      "outputs": [
        {
          "output_type": "stream",
          "name": "stdout",
          "text": [
            "Epoch 1/100\n",
            "54/54 [==============================] - 4s 19ms/step - loss: 0.0389\n",
            "Epoch 2/100\n",
            "54/54 [==============================] - 1s 19ms/step - loss: 0.0135\n",
            "Epoch 3/100\n",
            "54/54 [==============================] - 1s 19ms/step - loss: 0.0076\n",
            "Epoch 4/100\n",
            "54/54 [==============================] - 1s 19ms/step - loss: 0.0059\n",
            "Epoch 5/100\n",
            "54/54 [==============================] - 1s 19ms/step - loss: 0.0203\n",
            "Epoch 6/100\n",
            "54/54 [==============================] - 1s 19ms/step - loss: 0.0071\n",
            "Epoch 7/100\n",
            "54/54 [==============================] - 1s 19ms/step - loss: 0.0043\n",
            "Epoch 8/100\n",
            "54/54 [==============================] - 1s 19ms/step - loss: 0.0045\n",
            "Epoch 9/100\n",
            "54/54 [==============================] - 1s 19ms/step - loss: 0.0032\n",
            "Epoch 10/100\n",
            "54/54 [==============================] - 1s 18ms/step - loss: 0.0024\n",
            "Epoch 11/100\n",
            "54/54 [==============================] - 1s 19ms/step - loss: 0.0029\n",
            "Epoch 12/100\n",
            "54/54 [==============================] - 1s 19ms/step - loss: 0.0016\n",
            "Epoch 13/100\n",
            "54/54 [==============================] - 1s 19ms/step - loss: 8.2680e-04\n",
            "Epoch 14/100\n",
            "54/54 [==============================] - 1s 19ms/step - loss: 0.0011\n",
            "Epoch 15/100\n",
            "54/54 [==============================] - 1s 19ms/step - loss: 0.0024\n",
            "Epoch 16/100\n",
            "54/54 [==============================] - 1s 19ms/step - loss: 0.0047\n",
            "Epoch 17/100\n",
            "54/54 [==============================] - 1s 19ms/step - loss: 0.0019\n",
            "Epoch 18/100\n",
            "54/54 [==============================] - 1s 19ms/step - loss: 0.0016\n",
            "Epoch 19/100\n",
            "54/54 [==============================] - 1s 19ms/step - loss: 0.0010\n",
            "Epoch 20/100\n",
            "54/54 [==============================] - 1s 19ms/step - loss: 8.5113e-04\n",
            "Epoch 21/100\n",
            "54/54 [==============================] - 1s 19ms/step - loss: 8.2936e-04\n",
            "Epoch 22/100\n",
            "54/54 [==============================] - 1s 19ms/step - loss: 0.0013\n",
            "Epoch 23/100\n",
            "54/54 [==============================] - 1s 18ms/step - loss: 8.7846e-04\n",
            "Epoch 24/100\n",
            "54/54 [==============================] - 1s 19ms/step - loss: 0.0011\n",
            "Epoch 25/100\n",
            "54/54 [==============================] - 1s 19ms/step - loss: 6.5163e-04\n",
            "Epoch 26/100\n",
            "54/54 [==============================] - 1s 19ms/step - loss: 4.7006e-04\n",
            "Epoch 27/100\n",
            "54/54 [==============================] - 1s 19ms/step - loss: 5.9026e-04\n",
            "Epoch 28/100\n",
            "54/54 [==============================] - 1s 19ms/step - loss: 7.5583e-04\n",
            "Epoch 29/100\n",
            "54/54 [==============================] - 1s 19ms/step - loss: 5.8590e-04\n",
            "Epoch 30/100\n",
            "54/54 [==============================] - 1s 18ms/step - loss: 5.6420e-04\n",
            "Epoch 31/100\n",
            "54/54 [==============================] - 1s 18ms/step - loss: 9.7928e-04\n",
            "Epoch 32/100\n",
            "54/54 [==============================] - 1s 19ms/step - loss: 6.6765e-04\n",
            "Epoch 33/100\n",
            "54/54 [==============================] - 1s 19ms/step - loss: 5.0465e-04\n",
            "Epoch 34/100\n",
            "54/54 [==============================] - 1s 19ms/step - loss: 5.6802e-04\n",
            "Epoch 35/100\n",
            "54/54 [==============================] - 1s 19ms/step - loss: 8.0411e-04\n",
            "Epoch 36/100\n",
            "54/54 [==============================] - 1s 19ms/step - loss: 4.4044e-04\n",
            "Epoch 37/100\n",
            "54/54 [==============================] - 1s 19ms/step - loss: 3.7285e-04\n",
            "Epoch 38/100\n",
            "54/54 [==============================] - 1s 18ms/step - loss: 3.4650e-04\n",
            "Epoch 39/100\n",
            "54/54 [==============================] - 1s 19ms/step - loss: 3.9027e-04\n",
            "Epoch 40/100\n",
            "54/54 [==============================] - 1s 19ms/step - loss: 3.0838e-04\n",
            "Epoch 41/100\n",
            "54/54 [==============================] - 1s 19ms/step - loss: 5.0519e-04\n",
            "Epoch 42/100\n",
            "54/54 [==============================] - 1s 19ms/step - loss: 0.0012\n",
            "Epoch 43/100\n",
            "54/54 [==============================] - 1s 19ms/step - loss: 4.6424e-04\n",
            "Epoch 44/100\n",
            "54/54 [==============================] - 1s 19ms/step - loss: 3.1553e-04\n",
            "Epoch 45/100\n",
            "54/54 [==============================] - 1s 19ms/step - loss: 4.4505e-04\n",
            "Epoch 46/100\n",
            "54/54 [==============================] - 1s 19ms/step - loss: 2.8002e-04\n",
            "Epoch 47/100\n",
            "54/54 [==============================] - 1s 19ms/step - loss: 3.0262e-04\n",
            "Epoch 48/100\n",
            "54/54 [==============================] - 1s 19ms/step - loss: 1.8751e-04\n",
            "Epoch 49/100\n",
            "54/54 [==============================] - 1s 19ms/step - loss: 3.6154e-04\n",
            "Epoch 50/100\n",
            "54/54 [==============================] - 1s 19ms/step - loss: 4.0046e-04\n",
            "Epoch 51/100\n",
            "54/54 [==============================] - 1s 20ms/step - loss: 3.1747e-04\n",
            "Epoch 52/100\n",
            "54/54 [==============================] - 1s 19ms/step - loss: 4.2134e-04\n",
            "Epoch 53/100\n",
            "54/54 [==============================] - 1s 19ms/step - loss: 2.8751e-04\n",
            "Epoch 54/100\n",
            "54/54 [==============================] - 1s 19ms/step - loss: 2.6007e-04\n",
            "Epoch 55/100\n",
            "54/54 [==============================] - 1s 19ms/step - loss: 4.1859e-04\n",
            "Epoch 56/100\n",
            "54/54 [==============================] - 1s 19ms/step - loss: 3.0249e-04\n",
            "Epoch 57/100\n",
            "54/54 [==============================] - 1s 20ms/step - loss: 3.4014e-04\n",
            "Epoch 58/100\n",
            "54/54 [==============================] - 1s 19ms/step - loss: 2.3015e-04\n",
            "Epoch 59/100\n",
            "54/54 [==============================] - 1s 19ms/step - loss: 3.5320e-04\n",
            "Epoch 60/100\n",
            "54/54 [==============================] - 1s 19ms/step - loss: 2.4229e-04\n",
            "Epoch 61/100\n",
            "54/54 [==============================] - 1s 19ms/step - loss: 7.0827e-04\n",
            "Epoch 62/100\n",
            "54/54 [==============================] - 1s 19ms/step - loss: 7.8227e-04\n",
            "Epoch 63/100\n",
            "54/54 [==============================] - 1s 19ms/step - loss: 3.3557e-04\n",
            "Epoch 64/100\n",
            "54/54 [==============================] - 1s 19ms/step - loss: 4.6608e-04\n",
            "Epoch 65/100\n",
            "54/54 [==============================] - 1s 19ms/step - loss: 3.3185e-04\n",
            "Epoch 66/100\n",
            "54/54 [==============================] - 1s 19ms/step - loss: 2.7135e-04\n",
            "Epoch 67/100\n",
            "54/54 [==============================] - 1s 19ms/step - loss: 2.3308e-04\n",
            "Epoch 68/100\n",
            "54/54 [==============================] - 1s 19ms/step - loss: 1.9152e-04\n",
            "Epoch 69/100\n",
            "54/54 [==============================] - 1s 19ms/step - loss: 2.0060e-04\n",
            "Epoch 70/100\n",
            "54/54 [==============================] - 1s 19ms/step - loss: 1.6888e-04\n",
            "Epoch 71/100\n",
            "54/54 [==============================] - 1s 19ms/step - loss: 1.8825e-04\n",
            "Epoch 72/100\n",
            "54/54 [==============================] - 1s 18ms/step - loss: 1.5371e-04\n",
            "Epoch 73/100\n",
            "54/54 [==============================] - 1s 19ms/step - loss: 1.8917e-04\n",
            "Epoch 74/100\n",
            "54/54 [==============================] - 1s 19ms/step - loss: 3.3599e-04\n",
            "Epoch 75/100\n",
            "54/54 [==============================] - 1s 18ms/step - loss: 1.7421e-04\n",
            "Epoch 76/100\n",
            "54/54 [==============================] - 1s 19ms/step - loss: 1.7334e-04\n",
            "Epoch 77/100\n",
            "54/54 [==============================] - 1s 19ms/step - loss: 1.4248e-04\n",
            "Epoch 78/100\n",
            "54/54 [==============================] - 1s 19ms/step - loss: 1.7209e-04\n",
            "Epoch 79/100\n",
            "54/54 [==============================] - 1s 19ms/step - loss: 1.5034e-04\n",
            "Epoch 80/100\n",
            "54/54 [==============================] - 1s 19ms/step - loss: 1.5903e-04\n",
            "Epoch 81/100\n",
            "54/54 [==============================] - 1s 19ms/step - loss: 1.3811e-04\n",
            "Epoch 82/100\n",
            "54/54 [==============================] - 1s 19ms/step - loss: 1.9415e-04\n",
            "Epoch 83/100\n",
            "54/54 [==============================] - 1s 19ms/step - loss: 2.1641e-04\n",
            "Epoch 84/100\n",
            "54/54 [==============================] - 1s 19ms/step - loss: 1.7004e-04\n",
            "Epoch 85/100\n",
            "54/54 [==============================] - 1s 19ms/step - loss: 2.9262e-04\n",
            "Epoch 86/100\n",
            "54/54 [==============================] - 1s 19ms/step - loss: 2.6246e-04\n",
            "Epoch 87/100\n",
            "54/54 [==============================] - 1s 19ms/step - loss: 1.8087e-04\n",
            "Epoch 88/100\n",
            "54/54 [==============================] - 1s 19ms/step - loss: 3.3037e-04\n",
            "Epoch 89/100\n",
            "54/54 [==============================] - 1s 19ms/step - loss: 2.0665e-04\n",
            "Epoch 90/100\n",
            "54/54 [==============================] - 1s 19ms/step - loss: 1.5273e-04\n",
            "Epoch 91/100\n",
            "54/54 [==============================] - 1s 19ms/step - loss: 1.7467e-04\n",
            "Epoch 92/100\n",
            "54/54 [==============================] - 1s 19ms/step - loss: 1.3387e-04\n",
            "Epoch 93/100\n",
            "54/54 [==============================] - 1s 19ms/step - loss: 1.7028e-04\n",
            "Epoch 94/100\n",
            "54/54 [==============================] - 1s 19ms/step - loss: 9.2632e-04\n",
            "Epoch 95/100\n",
            "54/54 [==============================] - 1s 18ms/step - loss: 3.9418e-04\n",
            "Epoch 96/100\n",
            "54/54 [==============================] - 1s 19ms/step - loss: 1.3917e-04\n",
            "Epoch 97/100\n",
            "54/54 [==============================] - 1s 19ms/step - loss: 1.9181e-04\n",
            "Epoch 98/100\n",
            "54/54 [==============================] - 1s 19ms/step - loss: 2.0343e-04\n",
            "Epoch 99/100\n",
            "54/54 [==============================] - 1s 19ms/step - loss: 5.2074e-04\n",
            "Epoch 100/100\n",
            "54/54 [==============================] - 1s 19ms/step - loss: 6.7634e-04\n"
          ]
        },
        {
          "output_type": "execute_result",
          "data": {
            "text/plain": [
              "<keras.callbacks.History at 0x7f4b23066890>"
            ]
          },
          "metadata": {},
          "execution_count": 19
        }
      ]
    },
    {
      "cell_type": "code",
      "metadata": {
        "colab": {
          "base_uri": "https://localhost:8080/",
          "height": 282
        },
        "id": "ak41740N21h3",
        "outputId": "5df19568-8df5-454e-ea0c-e9c6abb27328"
      },
      "source": [
        "loss_per_epoch = model.history.history['loss']\n",
        "plt.plot(range(len(loss_per_epoch)),loss_per_epoch)"
      ],
      "execution_count": null,
      "outputs": [
        {
          "output_type": "execute_result",
          "data": {
            "text/plain": [
              "[<matplotlib.lines.Line2D at 0x7f4b1f5a8690>]"
            ]
          },
          "metadata": {},
          "execution_count": 20
        },
        {
          "output_type": "display_data",
          "data": {
            "image/png": "[encoded data removed]",
            "text/plain": [
              "<Figure size 432x288 with 1 Axes>"
            ]
          },
          "metadata": {
            "needs_background": "light"
          }
        }
      ]
    },
    {
      "cell_type": "code",
      "metadata": {
        "id": "3dxL3bdK3B7W"
      },
      "source": [
        "last_train_batch = scaled_train[-25:]"
      ],
      "execution_count": null,
      "outputs": []
    },
    {
      "cell_type": "code",
      "metadata": {
        "id": "lyoFFdUJ3H5E"
      },
      "source": [
        "#last_train_batch = last_train_batch.reshape((1, n_input, n_features))"
      ],
      "execution_count": null,
      "outputs": []
    },
    {
      "cell_type": "code",
      "metadata": {
        "id": "Bym9HiTj3LLN"
      },
      "source": [
        "#model.predict(last_train_batch)"
      ],
      "execution_count": null,
      "outputs": []
    },
    {
      "cell_type": "code",
      "metadata": {
        "colab": {
          "base_uri": "https://localhost:8080/"
        },
        "id": "AdAMeBpv3Pu1",
        "outputId": "f0a01254-14e3-4519-901a-2fcb12905ee9"
      },
      "source": [
        "scaled_test[0]"
      ],
      "execution_count": null,
      "outputs": [
        {
          "output_type": "execute_result",
          "data": {
            "text/plain": [
              "array([0.01886498])"
            ]
          },
          "metadata": {},
          "execution_count": 26
        }
      ]
    },
    {
      "cell_type": "code",
      "metadata": {
        "id": "UsJhrGgQ3Z4E",
        "colab": {
          "base_uri": "https://localhost:8080/"
        },
        "outputId": "c7a2bb49-2800-423e-e8eb-5c0b75581767"
      },
      "source": [
        "test_predictions = []\n",
        "\n",
        "first_eval_batch = scaled_test[:n_input]\n",
        "current_batch = first_eval_batch.reshape((1, n_input, n_features))\n",
        "\n",
        "for i in tqdm(range(len(test) - n_input)):\n",
        "    current_pred = model.predict(scaled_test[i:i+n_input].reshape((1, n_input, n_features)))[0]\n",
        "    test_predictions.append(current_pred) \n",
        "    # current_batch = np.append(current_batch[:,1:,:],[[current_pred]],axis=1)"
      ],
      "execution_count": null,
      "outputs": [
        {
          "output_type": "stream",
          "name": "stderr",
          "text": [
            "100%|██████████| 94/94 [00:04<00:00, 20.95it/s]\n"
          ]
        }
      ]
    },
    {
      "cell_type": "code",
      "metadata": {
        "id": "vJnx8aQb35y7"
      },
      "source": [
        "true_predictions = scaler.inverse_transform(test_predictions)"
      ],
      "execution_count": null,
      "outputs": []
    },
    {
      "cell_type": "code",
      "metadata": {
        "colab": {
          "base_uri": "https://localhost:8080/",
          "height": 282
        },
        "id": "bu8L2khw4I4A",
        "outputId": "7b1dd04b-bd1f-4d0f-a3bc-46824097f161"
      },
      "source": [
        "plt.plot(scaled_test[n_input:])\n",
        "plt.plot(test_predictions)"
      ],
      "execution_count": null,
      "outputs": [
        {
          "output_type": "execute_result",
          "data": {
            "text/plain": [
              "[<matplotlib.lines.Line2D at 0x7f4b1cf76e10>]"
            ]
          },
          "metadata": {},
          "execution_count": 29
        },
        {
          "output_type": "display_data",
          "data": {
            "image/png": "[encoded data removed]",
            "text/plain": [
              "<Figure size 432x288 with 1 Axes>"
            ]
          },
          "metadata": {
            "needs_background": "light"
          }
        }
      ]
    }
  ]
}